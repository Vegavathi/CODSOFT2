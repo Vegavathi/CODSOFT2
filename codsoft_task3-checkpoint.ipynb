{
 "cells": [
  {
   "cell_type": "code",
   "execution_count": 2,
   "id": "31a8ae9b-1034-4f3a-b6e6-dbaae849c39c",
   "metadata": {},
   "outputs": [
    {
     "name": "stdin",
     "output_type": "stream",
     "text": [
      "Enter the length of the password: 5\n"
     ]
    },
    {
     "name": "stdout",
     "output_type": "stream",
     "text": [
      "Enter '1' for lower case letter \n",
      " Enter '2' for upper case letter \n",
      " Enter '3' for digits \n",
      " Enter '4' for puntuation\n"
     ]
    },
    {
     "name": "stdin",
     "output_type": "stream",
     "text": [
      "Enter the complexity: 143\n"
     ]
    },
    {
     "name": "stdout",
     "output_type": "stream",
     "text": [
      "Generated Password: 38k'-\n"
     ]
    }
   ],
   "source": [
    "import random\n",
    "import string\n",
    "\n",
    "def password (length,complexity):\n",
    "    character = ''\n",
    "    if '1' in complexity:\n",
    "        character += string.ascii_lowercase\n",
    "    if '2' in complexity:\n",
    "        character += string.ascii_uppercase\n",
    "    if '3' in complexity:\n",
    "        character += string.digits\n",
    "    if '4' in complexity:\n",
    "        character += string.punctuation\n",
    "    \n",
    "    if not character:\n",
    "        print(\"Error! choose complexity..\")\n",
    "        return None\n",
    "    \n",
    "    generate_password= ''.join(random.choice(character) for _ in range (length))\n",
    "    return generate_password\n",
    "\n",
    "if__name__ = \"__main__\"\n",
    "length= int(input(\"Enter the length of the password:\"))\n",
    "print(\"Enter '1' for lower case letter \\n Enter '2' for upper case letter \\n Enter '3' for digits \\n Enter '4' for puntuation\")\n",
    "complexity = input(\"Enter the complexity:\")\n",
    "\n",
    "generated_password = password(length,complexity)\n",
    "print(\"Generated Password:\" ,generated_password)\n",
    "    \n"
   ]
  },
  {
   "cell_type": "code",
   "execution_count": null,
   "id": "b634c4e6-b93d-4c73-8364-4cba96045dd5",
   "metadata": {},
   "outputs": [],
   "source": []
  }
 ],
 "metadata": {
  "kernelspec": {
   "display_name": "Python 3 (ipykernel)",
   "language": "python",
   "name": "python3"
  },
  "language_info": {
   "codemirror_mode": {
    "name": "ipython",
    "version": 3
   },
   "file_extension": ".py",
   "mimetype": "text/x-python",
   "name": "python",
   "nbconvert_exporter": "python",
   "pygments_lexer": "ipython3",
   "version": "3.12.2"
  }
 },
 "nbformat": 4,
 "nbformat_minor": 5
}
